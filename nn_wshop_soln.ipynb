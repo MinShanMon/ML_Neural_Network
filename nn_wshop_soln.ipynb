{
 "cells": [
  {
   "cell_type": "code",
   "execution_count": 1,
   "metadata": {},
   "outputs": [],
   "source": [
    "import numpy as np\n",
    "import pandas as pd\n",
    "import tensorflow as tf\n",
    "import matplotlib.pyplot as plt\n",
    "from sklearn.model_selection import train_test_split\n",
    "from sklearn.preprocessing import StandardScaler"
   ]
  },
  {
   "cell_type": "code",
   "execution_count": 2,
   "metadata": {},
   "outputs": [
    {
     "name": "stdout",
     "output_type": "stream",
     "text": [
      "    Sample  Length   Left  Right  Bottom   Top  Diagonal  Genuine\n",
      "0      BN1   214.8  131.0  131.1     9.0   9.7     141.0        1\n",
      "1      BN2   214.6  129.7  129.7     8.1   9.5     141.7        1\n",
      "2      BN3   214.8  129.7  129.7     8.7   9.6     142.2        1\n",
      "3      BN4   214.8  129.7  129.6     7.5  10.4     142.0        1\n",
      "4      BN5   215.0  129.6  129.7    10.4   7.7     141.8        1\n",
      "..     ...     ...    ...    ...     ...   ...       ...      ...\n",
      "195  BN196   215.0  130.4  130.3     9.9  12.1     139.6        0\n",
      "196  BN197   215.1  130.3  129.9    10.3  11.5     139.7        0\n",
      "197  BN198   214.8  130.3  130.4    10.6  11.1     140.0        0\n",
      "198  BN199   214.7  130.7  130.8    11.2  11.2     139.4        0\n",
      "199  BN200   214.3  129.9  129.9    10.2  11.5     139.6        0\n",
      "\n",
      "[200 rows x 8 columns]\n"
     ]
    }
   ],
   "source": [
    "'''\n",
    "Splits our data into train and test sets.\n",
    "'''\n",
    "def train_test_data(features, labels):\n",
    "  x_train, x_test, y_train, y_test = train_test_split(\n",
    "    features, labels, test_size=0.1, stratify=labels\n",
    "  )\n",
    "\n",
    "  return x_train, x_test, y_train, y_test\n",
    "\n",
    "'''\n",
    "Perform zero-mean and unit-variance standardization.\n",
    "'''\n",
    "def standardize_data(x_train, x_test):\n",
    "  scaler = StandardScaler()\n",
    "\n",
    "  # fit our scaler on the training data\n",
    "  scaler.fit(x_train)\n",
    "\n",
    "  # transform our train and test data on the fitted weights\n",
    "  x_train_std = scaler.transform(x_train)\n",
    "  x_test_std = scaler.transform(x_test)\n",
    "\n",
    "  return x_train_std, x_test_std\n",
    "\n",
    "\n",
    "\n",
    "df = pd.read_csv('banknotes.csv')\n",
    "print(df)\n",
    "\n",
    "# \".values\" to change from panda's dataframe \n",
    "# data structure to numpy's array\n",
    "data = df.values\n",
    "\n",
    "# These two columns are not our features:\n",
    "#   - our label (at last column)\n",
    "#   - running number (at first column)\n",
    "features = data[:,1:-1]\n",
    "\n",
    "# The last column, that specifies Genuine or Counterfeit,\n",
    "# contains our labels \n",
    "labels = data[:,-1]\n",
    "\n",
    "x_train, x_test, y_train, y_test = train_test_split(\n",
    "    features, labels, test_size = 0.1, stratify=labels)\n",
    "\n",
    "# standardize our data\n",
    "x_train_std, x_test_std = standardize_data(x_train, x_test)"
   ]
  },
  {
   "cell_type": "code",
   "execution_count": 3,
   "metadata": {},
   "outputs": [],
   "source": [
    "\n",
    "'''\n",
    "Perform one-hot encoding on a list of labels.\n",
    "'''\n",
    "def to_onehot(arr):\n",
    "    onehot = []\n",
    "\n",
    "    for label in arr:\n",
    "        if label == 0:\n",
    "            _1hot = [1, 0]\n",
    "        elif label == 1:\n",
    "            _1hot = [0, 1]\n",
    "        \n",
    "        onehot.append(_1hot)\n",
    "\n",
    "    # converting from python list to numpy array\n",
    "    return np.array(onehot)\n",
    "\n",
    "# perform one-hot encoding\n",
    "y_train_1hot = to_onehot(y_train)\n",
    "y_test_1hot = to_onehot(y_test)"
   ]
  },
  {
   "cell_type": "code",
   "execution_count": 4,
   "metadata": {},
   "outputs": [],
   "source": [
    "\n",
    "'''\n",
    "Create our Neural Network model.\n",
    "'''\n",
    "def create_model(n_features):\n",
    "  model = tf.keras.Sequential()\n",
    "\n",
    "  # add a layer with 100 neurons\n",
    "  model.add(tf.keras.layers.Dense(units=50, \n",
    "      input_shape=(n_features,), activation='relu'))\n",
    "\n",
    "  # add a second layer with 20 neurons\n",
    "  model.add(tf.keras.layers.Dense(units=20, \n",
    "      input_shape=(n_features,), activation='relu'))\n",
    "\n",
    "  # 'softmax' becauses we are doing classification.\n",
    "  # a sample can only fall into one of the 2 classes. \n",
    "  model.add(tf.keras.layers.Dense(units=2, activation='softmax'))\n",
    "\n",
    "  # use 'categorical_crossentropy' for our loss calcuation\n",
    "  model.compile(optimizer='adam', loss='categorical_crossentropy', \n",
    "      metrics=['accuracy'])\n",
    "\n",
    "  return model\n",
    "\n",
    "# create and train our model       \n",
    "model = create_model(\n",
    "    x_train_std.shape[1]    # no. of features used for training \n",
    ") "
   ]
  },
  {
   "cell_type": "code",
   "execution_count": 5,
   "metadata": {},
   "outputs": [
    {
     "name": "stdout",
     "output_type": "stream",
     "text": [
      "Epoch 1/50\n",
      "1/6 [====>.........................] - ETA: 0s - loss: 0.7750 - accuracy: 0.4375"
     ]
    },
    {
     "name": "stderr",
     "output_type": "stream",
     "text": [
      "2023-01-13 13:55:47.758458: W tensorflow/core/platform/profile_utils/cpu_utils.cc:128] Failed to get CPU frequency: 0 Hz\n"
     ]
    },
    {
     "name": "stdout",
     "output_type": "stream",
     "text": [
      "6/6 [==============================] - 0s 918us/step - loss: 0.7355 - accuracy: 0.4667\n",
      "Epoch 2/50\n",
      "6/6 [==============================] - 0s 756us/step - loss: 0.5942 - accuracy: 0.6833\n",
      "Epoch 3/50\n",
      "6/6 [==============================] - 0s 827us/step - loss: 0.4844 - accuracy: 0.9167\n",
      "Epoch 4/50\n",
      "6/6 [==============================] - 0s 863us/step - loss: 0.3967 - accuracy: 0.9778\n",
      "Epoch 5/50\n",
      "6/6 [==============================] - 0s 790us/step - loss: 0.3259 - accuracy: 0.9944\n",
      "Epoch 6/50\n",
      "6/6 [==============================] - 0s 687us/step - loss: 0.2674 - accuracy: 0.9944\n",
      "Epoch 7/50\n",
      "6/6 [==============================] - 0s 809us/step - loss: 0.2191 - accuracy: 0.9944\n",
      "Epoch 8/50\n",
      "6/6 [==============================] - 0s 742us/step - loss: 0.1788 - accuracy: 0.9944\n",
      "Epoch 9/50\n",
      "6/6 [==============================] - 0s 601us/step - loss: 0.1460 - accuracy: 0.9944\n",
      "Epoch 10/50\n",
      "6/6 [==============================] - 0s 716us/step - loss: 0.1194 - accuracy: 0.9944\n",
      "Epoch 11/50\n",
      "6/6 [==============================] - 0s 665us/step - loss: 0.0985 - accuracy: 0.9944\n",
      "Epoch 12/50\n",
      "6/6 [==============================] - 0s 724us/step - loss: 0.0821 - accuracy: 0.9944\n",
      "Epoch 13/50\n",
      "6/6 [==============================] - 0s 844us/step - loss: 0.0689 - accuracy: 0.9944\n",
      "Epoch 14/50\n",
      "6/6 [==============================] - 0s 740us/step - loss: 0.0589 - accuracy: 0.9944\n",
      "Epoch 15/50\n",
      "6/6 [==============================] - 0s 691us/step - loss: 0.0512 - accuracy: 0.9944\n",
      "Epoch 16/50\n",
      "6/6 [==============================] - 0s 774us/step - loss: 0.0448 - accuracy: 0.9944\n",
      "Epoch 17/50\n",
      "6/6 [==============================] - 0s 705us/step - loss: 0.0398 - accuracy: 0.9944\n",
      "Epoch 18/50\n",
      "6/6 [==============================] - 0s 658us/step - loss: 0.0357 - accuracy: 0.9944\n",
      "Epoch 19/50\n",
      "6/6 [==============================] - 0s 805us/step - loss: 0.0325 - accuracy: 0.9944\n",
      "Epoch 20/50\n",
      "6/6 [==============================] - 0s 831us/step - loss: 0.0298 - accuracy: 0.9944\n",
      "Epoch 21/50\n",
      "6/6 [==============================] - 0s 810us/step - loss: 0.0273 - accuracy: 0.9944\n",
      "Epoch 22/50\n",
      "6/6 [==============================] - 0s 788us/step - loss: 0.0254 - accuracy: 0.9944\n",
      "Epoch 23/50\n",
      "6/6 [==============================] - 0s 665us/step - loss: 0.0237 - accuracy: 0.9944\n",
      "Epoch 24/50\n",
      "6/6 [==============================] - 0s 761us/step - loss: 0.0222 - accuracy: 0.9944\n",
      "Epoch 25/50\n",
      "6/6 [==============================] - 0s 803us/step - loss: 0.0209 - accuracy: 0.9944\n",
      "Epoch 26/50\n",
      "6/6 [==============================] - 0s 790us/step - loss: 0.0198 - accuracy: 0.9944\n",
      "Epoch 27/50\n",
      "6/6 [==============================] - 0s 778us/step - loss: 0.0187 - accuracy: 0.9944\n",
      "Epoch 28/50\n",
      "6/6 [==============================] - 0s 812us/step - loss: 0.0178 - accuracy: 0.9944\n",
      "Epoch 29/50\n",
      "6/6 [==============================] - 0s 872us/step - loss: 0.0170 - accuracy: 0.9944\n",
      "Epoch 30/50\n",
      "6/6 [==============================] - 0s 822us/step - loss: 0.0162 - accuracy: 0.9944\n",
      "Epoch 31/50\n",
      "6/6 [==============================] - 0s 803us/step - loss: 0.0155 - accuracy: 0.9944\n",
      "Epoch 32/50\n",
      "6/6 [==============================] - 0s 584us/step - loss: 0.0149 - accuracy: 0.9944\n",
      "Epoch 33/50\n",
      "6/6 [==============================] - 0s 783us/step - loss: 0.0143 - accuracy: 0.9944\n",
      "Epoch 34/50\n",
      "6/6 [==============================] - 0s 715us/step - loss: 0.0137 - accuracy: 0.9944\n",
      "Epoch 35/50\n",
      "6/6 [==============================] - 0s 724us/step - loss: 0.0132 - accuracy: 0.9944\n",
      "Epoch 36/50\n",
      "6/6 [==============================] - 0s 1ms/step - loss: 0.0128 - accuracy: 0.9944\n",
      "Epoch 37/50\n",
      "6/6 [==============================] - 0s 698us/step - loss: 0.0123 - accuracy: 0.9944\n",
      "Epoch 38/50\n",
      "6/6 [==============================] - 0s 793us/step - loss: 0.0119 - accuracy: 0.9944\n",
      "Epoch 39/50\n",
      "6/6 [==============================] - 0s 733us/step - loss: 0.0114 - accuracy: 0.9944\n",
      "Epoch 40/50\n",
      "6/6 [==============================] - 0s 878us/step - loss: 0.0112 - accuracy: 0.9944\n",
      "Epoch 41/50\n",
      "6/6 [==============================] - 0s 759us/step - loss: 0.0106 - accuracy: 0.9944\n",
      "Epoch 42/50\n",
      "6/6 [==============================] - 0s 727us/step - loss: 0.0103 - accuracy: 0.9944\n",
      "Epoch 43/50\n",
      "6/6 [==============================] - 0s 794us/step - loss: 0.0100 - accuracy: 0.9944\n",
      "Epoch 44/50\n",
      "6/6 [==============================] - 0s 800us/step - loss: 0.0096 - accuracy: 0.9944\n",
      "Epoch 45/50\n",
      "6/6 [==============================] - 0s 796us/step - loss: 0.0094 - accuracy: 0.9944\n",
      "Epoch 46/50\n",
      "6/6 [==============================] - 0s 660us/step - loss: 0.0091 - accuracy: 1.0000\n",
      "Epoch 47/50\n",
      "6/6 [==============================] - 0s 800us/step - loss: 0.0088 - accuracy: 1.0000\n",
      "Epoch 48/50\n",
      "6/6 [==============================] - 0s 760us/step - loss: 0.0085 - accuracy: 1.0000\n",
      "Epoch 49/50\n",
      "6/6 [==============================] - 0s 662us/step - loss: 0.0083 - accuracy: 1.0000\n",
      "Epoch 50/50\n",
      "6/6 [==============================] - 0s 738us/step - loss: 0.0081 - accuracy: 1.0000\n"
     ]
    }
   ],
   "source": [
    "\n",
    "\n",
    "'''\n",
    "Train our model.\n",
    "\n",
    "Returns the 'history' of our training, which has the loss \n",
    "and accuracy details for each epoch.\n",
    "'''\n",
    "def train_model(model, x_train, y_train_1hot):\n",
    "  return model.fit(x_train, y_train_1hot, epochs=50)\n",
    "\n",
    "\n",
    "hist = train_model(model, x_train_std, y_train_1hot)"
   ]
  },
  {
   "cell_type": "code",
   "execution_count": 6,
   "metadata": {},
   "outputs": [
    {
     "data": {
      "image/png": "[encoded data removed]",
      "text/plain": [
       "<Figure size 1200x500 with 2 Axes>"
      ]
     },
     "metadata": {},
     "output_type": "display_data"
    }
   ],
   "source": [
    "'''\n",
    "Create loss and accuracy plots.\n",
    "'''\n",
    "def plot(hist):\n",
    "  _, ax = plt.subplots(nrows=1, ncols=2, figsize=(12, 5))\n",
    "\n",
    "  ax[0].plot(hist.history['loss'])\n",
    "  ax[0].set_xlabel('Epochs')\n",
    "  ax[0].set_ylabel('Loss')\n",
    "  ax[0].set_title('Loss Curve')\n",
    "\n",
    "  ax[1].plot(hist.history['accuracy'])\n",
    "  ax[1].set_xlabel('Epochs')\n",
    "  ax[1].set_ylabel('Accuracy')\n",
    "  ax[1].set_title('Accuracy Curve')\n",
    "\n",
    "  plt.show()    \n",
    "\n",
    "# loss and accuracy plots\n",
    "plot(hist)\n"
   ]
  },
  {
   "cell_type": "code",
   "execution_count": 7,
   "metadata": {},
   "outputs": [
    {
     "name": "stdout",
     "output_type": "stream",
     "text": [
      "1/1 [==============================] - 0s 65ms/step - loss: 0.0112 - accuracy: 1.0000\n",
      "loss =  0.01121542789041996\n",
      "accuracy =  1.0\n"
     ]
    }
   ],
   "source": [
    "'''\n",
    "Automatic evaluation of our model against test set\n",
    "'''\n",
    "def auto_eval(model, x_test, y_test_1hot):\n",
    "  loss, accuracy = model.evaluate(x=x_test, y=y_test_1hot)\n",
    "\n",
    "  print('loss = ', loss)\n",
    "  print('accuracy = ', accuracy)    \n",
    "\n",
    "# tensorflow will do auto-evaluation of model against test set\n",
    "auto_eval(model, x_test_std, y_test_1hot)"
   ]
  }
 ],
 "metadata": {
  "kernelspec": {
   "display_name": "base",
   "language": "python",
   "name": "python3"
  },
  "language_info": {
   "codemirror_mode": {
    "name": "ipython",
    "version": 3
   },
   "file_extension": ".py",
   "mimetype": "text/x-python",
   "name": "python",
   "nbconvert_exporter": "python",
   "pygments_lexer": "ipython3",
   "version": "3.10.8"
  },
  "orig_nbformat": 4,
  "vscode": {
   "interpreter": {
    "hash": "194439896e2e70bd9825da6ce00ecad8aaee198f2edf1414a456886314b0a83d"
   }
  }
 },
 "nbformat": 4,
 "nbformat_minor": 2
}
